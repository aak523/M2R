{
 "cells": [
  {
   "cell_type": "code",
   "execution_count": 2,
   "id": "b11a34fa",
   "metadata": {},
   "outputs": [],
   "source": [
    "import severability\n",
    "import numpy as np\n",
    "import pandas as pd\n",
    "import matplotlib.pyplot as plt"
   ]
  },
  {
   "cell_type": "code",
   "execution_count": 3,
   "id": "ab1744db",
   "metadata": {},
   "outputs": [
    {
     "name": "stdout",
     "output_type": "stream",
     "text": [
      "<class 'pandas.core.frame.DataFrame'>\n",
      "Index: 3906 entries, Dc.js to Dyeing\n",
      "Columns: 3906 entries, Dc.js to Dyeing\n",
      "dtypes: float64(3906)\n",
      "memory usage: 116.4+ MB\n"
     ]
    }
   ],
   "source": [
    "df = pd.read_csv(\"Lightcast_co_mat.csv\", index_col=0)\n",
    "df.info()"
   ]
  },
  {
   "cell_type": "code",
   "execution_count": 4,
   "id": "7f7bb1c4",
   "metadata": {},
   "outputs": [
    {
     "data": {
      "text/plain": [
       "matrix([[4.86233750e-06, 5.39719463e-04, 5.34857125e-05, ...,\n",
       "         4.86233750e-05, 8.26597375e-06, 0.00000000e+00],\n",
       "        [2.35547165e-04, 1.48118848e-04, 1.84405844e-04, ...,\n",
       "         2.14326700e-05, 1.74007816e-05, 0.00000000e+00],\n",
       "        [1.79542210e-05, 1.41838346e-04, 1.30804661e-03, ...,\n",
       "         3.91728458e-06, 3.26440381e-07, 0.00000000e+00],\n",
       "        ...,\n",
       "        [4.10052856e-04, 4.14153384e-04, 9.84126854e-05, ...,\n",
       "         0.00000000e+00, 0.00000000e+00, 0.00000000e+00],\n",
       "        [5.13285024e-05, 2.47584541e-04, 6.03864734e-06, ...,\n",
       "         0.00000000e+00, 0.00000000e+00, 0.00000000e+00],\n",
       "        [0.00000000e+00, 0.00000000e+00, 0.00000000e+00, ...,\n",
       "         0.00000000e+00, 0.00000000e+00, 0.00000000e+00]])"
      ]
     },
     "execution_count": 4,
     "metadata": {},
     "output_type": "execute_result"
    }
   ],
   "source": [
    "labels = df.columns\n",
    "A = np.asmatrix(df.fillna(0).values)\n",
    "P = severability.transition_matrix(A)\n",
    "P"
   ]
  },
  {
   "cell_type": "code",
   "execution_count": 5,
   "id": "319cca38",
   "metadata": {},
   "outputs": [],
   "source": [
    "class Skill:\n",
    "    def __init__(self, name, index):\n",
    "        self.name = name\n",
    "        self.index = index\n",
    "\n",
    "    def __repr__(self):\n",
    "        comp = getattr(self, 'component', 'not calculated yet')\n",
    "        return f\"Skill(name={self.name}, index={self.index}, component={comp})\"\n",
    "    \n",
    "    def calculate_components(self):\n",
    "        print(f\"Calculating components for {self.name} at index {self.index}\")\n",
    "        components = []\n",
    "        for t in range(1, 3):\n",
    "            comp = severability.node_component(P, self.index, t, max_size=5)[0]\n",
    "            print(f\"Component for t={t}: {list(map((lambda x: labels[x]), comp))}\")\n",
    "            components.append(comp)\n",
    "        self.components = components"
   ]
  },
  {
   "cell_type": "code",
   "execution_count": 6,
   "id": "1295e17d",
   "metadata": {},
   "outputs": [
    {
     "data": {
      "text/plain": [
       "(834, 48)"
      ]
     },
     "execution_count": 6,
     "metadata": {},
     "output_type": "execute_result"
    }
   ],
   "source": [
    "# Load and clean the skills taxonomy\n",
    "skills = pd.read_csv(\"Lightcast_taxonomy_M2R.csv\", index_col=1)\n",
    "if 'Unnamed: 0' in skills.columns:\n",
    "    skills = skills.drop('Unnamed: 0', axis=1)\n",
    "\n",
    "# Function to get skill:index mapping for a category, filtered by available labels\n",
    "def get_skills_from_category(category, labels):\n",
    "    # Get all skills in the category\n",
    "    category_skills = skills[skills['Category (corrected)'] == category].index\n",
    "    \n",
    "    # Intersect with labels (preserves order and position in labels)\n",
    "    filtered_labels = labels.intersection(category_skills)\n",
    "        \n",
    "    # Build mapping: skill_name -> index in labels\n",
    "    return [ Skill(skill, labels.get_loc(skill)) for skill in filtered_labels ]\n",
    "\n",
    "tech_skills = get_skills_from_category('Information Technology', labels) + get_skills_from_category('Analysis', labels)\n",
    "hospitality_skills = get_skills_from_category('Hospitality and Food Services', labels)\n",
    "\n",
    "len(tech_skills), len(hospitality_skills)"
   ]
  },
  {
   "cell_type": "code",
   "execution_count": 19,
   "id": "44beb990",
   "metadata": {},
   "outputs": [
    {
     "ename": "ValueError",
     "evalue": "shapes (3906,3906) and (1,3906) not aligned: 3906 (dim 1) != 1 (dim 0)",
     "output_type": "error",
     "traceback": [
      "\u001b[1;31m---------------------------------------------------------------------------\u001b[0m",
      "\u001b[1;31mValueError\u001b[0m                                Traceback (most recent call last)",
      "Cell \u001b[1;32mIn[19], line 1\u001b[0m\n\u001b[1;32m----> 1\u001b[0m D \u001b[38;5;241m=\u001b[39m A \u001b[38;5;241m*\u001b[39m np\u001b[38;5;241m.\u001b[39mones(A\u001b[38;5;241m.\u001b[39mshape[\u001b[38;5;241m0\u001b[39m])\n",
      "File \u001b[1;32m~\\AppData\\Roaming\\Python\\Python312\\site-packages\\numpy\\matrixlib\\defmatrix.py:219\u001b[0m, in \u001b[0;36mmatrix.__mul__\u001b[1;34m(self, other)\u001b[0m\n\u001b[0;32m    216\u001b[0m \u001b[38;5;28;01mdef\u001b[39;00m \u001b[38;5;21m__mul__\u001b[39m(\u001b[38;5;28mself\u001b[39m, other):\n\u001b[0;32m    217\u001b[0m     \u001b[38;5;28;01mif\u001b[39;00m \u001b[38;5;28misinstance\u001b[39m(other, (N\u001b[38;5;241m.\u001b[39mndarray, \u001b[38;5;28mlist\u001b[39m, \u001b[38;5;28mtuple\u001b[39m)) :\n\u001b[0;32m    218\u001b[0m         \u001b[38;5;66;03m# This promotes 1-D vectors to row vectors\u001b[39;00m\n\u001b[1;32m--> 219\u001b[0m         \u001b[38;5;28;01mreturn\u001b[39;00m N\u001b[38;5;241m.\u001b[39mdot(\u001b[38;5;28mself\u001b[39m, asmatrix(other))\n\u001b[0;32m    220\u001b[0m     \u001b[38;5;28;01mif\u001b[39;00m isscalar(other) \u001b[38;5;129;01mor\u001b[39;00m \u001b[38;5;129;01mnot\u001b[39;00m \u001b[38;5;28mhasattr\u001b[39m(other, \u001b[38;5;124m'\u001b[39m\u001b[38;5;124m__rmul__\u001b[39m\u001b[38;5;124m'\u001b[39m) :\n\u001b[0;32m    221\u001b[0m         \u001b[38;5;28;01mreturn\u001b[39;00m N\u001b[38;5;241m.\u001b[39mdot(\u001b[38;5;28mself\u001b[39m, other)\n",
      "\u001b[1;31mValueError\u001b[0m: shapes (3906,3906) and (1,3906) not aligned: 3906 (dim 1) != 1 (dim 0)"
     ]
    }
   ],
   "source": [
    "D = A * np.ones(A.shape[0])"
   ]
  }
 ],
 "metadata": {
  "kernelspec": {
   "display_name": "base",
   "language": "python",
   "name": "python3"
  },
  "language_info": {
   "codemirror_mode": {
    "name": "ipython",
    "version": 3
   },
   "file_extension": ".py",
   "mimetype": "text/x-python",
   "name": "python",
   "nbconvert_exporter": "python",
   "pygments_lexer": "ipython3",
   "version": "3.12.3"
  }
 },
 "nbformat": 4,
 "nbformat_minor": 5
}
