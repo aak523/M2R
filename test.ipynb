{
 "cells": [
  {
   "cell_type": "code",
   "execution_count": 2,
   "id": "b11a34fa",
   "metadata": {},
   "outputs": [],
   "source": [
    "import severability\n",
    "import numpy as np\n",
    "import pandas as pd\n",
    "import matplotlib.pyplot as plt"
   ]
  },
  {
   "cell_type": "code",
   "execution_count": null,
   "id": "ab1744db",
   "metadata": {},
   "outputs": [
    {
     "name": "stdout",
     "output_type": "stream",
     "text": [
      "<class 'pandas.core.frame.DataFrame'>\n",
      "Index: 3906 entries, Dc.js to Dyeing\n",
      "Columns: 3906 entries, Dc.js to Dyeing\n",
      "dtypes: float64(3906)\n",
      "memory usage: 116.4+ MB\n"
     ]
    }
   ],
   "source": [
    "df = pd.read_csv(\"Lightcast_co_mat.csv\", index_col=0)\n",
    "df.info()"
   ]
  },
  {
   "cell_type": "code",
   "execution_count": 4,
   "id": "7f7bb1c4",
   "metadata": {},
   "outputs": [
    {
     "data": {
      "text/plain": [
       "matrix([[4.86233750e-06, 5.39719463e-04, 5.34857125e-05, ...,\n",
       "         4.86233750e-05, 8.26597375e-06, 0.00000000e+00],\n",
       "        [2.35547165e-04, 1.48118848e-04, 1.84405844e-04, ...,\n",
       "         2.14326700e-05, 1.74007816e-05, 0.00000000e+00],\n",
       "        [1.79542210e-05, 1.41838346e-04, 1.30804661e-03, ...,\n",
       "         3.91728458e-06, 3.26440381e-07, 0.00000000e+00],\n",
       "        ...,\n",
       "        [4.10052856e-04, 4.14153384e-04, 9.84126854e-05, ...,\n",
       "         0.00000000e+00, 0.00000000e+00, 0.00000000e+00],\n",
       "        [5.13285024e-05, 2.47584541e-04, 6.03864734e-06, ...,\n",
       "         0.00000000e+00, 0.00000000e+00, 0.00000000e+00],\n",
       "        [0.00000000e+00, 0.00000000e+00, 0.00000000e+00, ...,\n",
       "         0.00000000e+00, 0.00000000e+00, 0.00000000e+00]])"
      ]
     },
     "execution_count": 4,
     "metadata": {},
     "output_type": "execute_result"
    }
   ],
   "source": [
    "labels = df.columns\n",
    "A = np.asmatrix(df.fillna(0).values)\n",
    "P = severability.transition_matrix(A)\n",
    "P"
   ]
  },
  {
   "cell_type": "code",
   "execution_count": 34,
   "id": "1295e17d",
   "metadata": {},
   "outputs": [],
   "source": [
    "# Load and clean the skills taxonomy\n",
    "skills = pd.read_csv(\"Lightcast_taxonomy_M2R.csv\", index_col=1)\n",
    "if 'Unnamed: 0' in skills.columns:\n",
    "    skills = skills.drop('Unnamed: 0', axis=1)\n",
    "\n",
    "# Function to get skill:index mapping for a category, filtered by available labels\n",
    "def get_skill_index_dict_from_category(category, labels):\n",
    "    # Get all skills in the category\n",
    "    category_skills = skills[skills['Category (corrected)'] == category].index\n",
    "    \n",
    "    # Intersect with labels (preserves order and position in labels)\n",
    "    filtered_labels = labels.intersection(category_skills)\n",
    "    \n",
    "    # Build mapping: skill_name -> index in labels\n",
    "    return {skill: labels.get_loc(skill) for skill in filtered_labels}\n",
    "\n",
    "tech_skills = get_skill_index_dict_from_category('Information Technology', labels)\n",
    "hospitality_skills = get_skill_index_dict_from_category('Hospitality and Food Services', labels)"
   ]
  },
  {
   "cell_type": "code",
   "execution_count": 39,
   "id": "8a59d02e",
   "metadata": {},
   "outputs": [],
   "source": [
    "def get_components(seed, max_time=5):\n",
    "    return [ severability.node_component(P, seed, t=tau, max_size=5) for tau in range(1, max_time) ]"
   ]
  }
 ],
 "metadata": {
  "kernelspec": {
   "display_name": "base",
   "language": "python",
   "name": "python3"
  },
  "language_info": {
   "codemirror_mode": {
    "name": "ipython",
    "version": 3
   },
   "file_extension": ".py",
   "mimetype": "text/x-python",
   "name": "python",
   "nbconvert_exporter": "python",
   "pygments_lexer": "ipython3",
   "version": "3.12.3"
  }
 },
 "nbformat": 4,
 "nbformat_minor": 5
}
